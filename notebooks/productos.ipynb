{
 "cells": [
  {
   "cell_type": "markdown",
   "id": "c04e4991",
   "metadata": {},
   "source": [
    "#Exploramos el dataset"
   ]
  },
  {
   "cell_type": "code",
   "execution_count": 1,
   "id": "f5e3efa2",
   "metadata": {},
   "outputs": [],
   "source": [
    "import pandas as pd \n",
    "import numpy as np\n"
   ]
  },
  {
   "cell_type": "code",
   "execution_count": 2,
   "id": "bfba2f83",
   "metadata": {},
   "outputs": [],
   "source": [
    "dfprod=pd.read_csv(\"../input/db/products/products.csv\")\n",
    "dflvl4=pd.read_csv(\"../input/db/products/categoryLevel4.csv\")\n",
    "dflvl3=pd.read_csv(\"../input/db/products/categoryLevel3.csv\")\n",
    "dflvl2=pd.read_csv(\"../input/db/products/categoryLevel2.csv\")\n",
    "dflvl1=pd.read_csv(\"../input/db/products/categoryLevel1.csv\")\n"
   ]
  },
  {
   "cell_type": "code",
   "execution_count": 3,
   "id": "c7267a70",
   "metadata": {},
   "outputs": [
    {
     "data": {
      "text/html": [
       "<div>\n",
       "<style scoped>\n",
       "    .dataframe tbody tr th:only-of-type {\n",
       "        vertical-align: middle;\n",
       "    }\n",
       "\n",
       "    .dataframe tbody tr th {\n",
       "        vertical-align: top;\n",
       "    }\n",
       "\n",
       "    .dataframe thead th {\n",
       "        text-align: right;\n",
       "    }\n",
       "</style>\n",
       "<table border=\"1\" class=\"dataframe\">\n",
       "  <thead>\n",
       "    <tr style=\"text-align: right;\">\n",
       "      <th></th>\n",
       "      <th>idProd</th>\n",
       "      <th>nameProd</th>\n",
       "      <th>subCat</th>\n",
       "      <th>PCategory</th>\n",
       "      <th>SectionProduc</th>\n",
       "      <th>General</th>\n",
       "    </tr>\n",
       "  </thead>\n",
       "  <tbody>\n",
       "    <tr>\n",
       "      <th>0</th>\n",
       "      <td>0161040040040010</td>\n",
       "      <td>MINI POP TRAVELINA - BUS + HELICOPTERO</td>\n",
       "      <td>VARIOS</td>\n",
       "      <td>CASAS &amp; CASTILLOS</td>\n",
       "      <td>NIÑA</td>\n",
       "      <td>JUGUETES</td>\n",
       "    </tr>\n",
       "    <tr>\n",
       "      <th>1</th>\n",
       "      <td>0161061044021019</td>\n",
       "      <td>FLOTADOR MODELO DELFIN</td>\n",
       "      <td>FLOTADORES &amp; CHALECOS</td>\n",
       "      <td>FLOTADORES</td>\n",
       "      <td>PLAYA &amp; PISCINAS</td>\n",
       "      <td>JUGUETES</td>\n",
       "    </tr>\n",
       "    <tr>\n",
       "      <th>2</th>\n",
       "      <td>0163069045022019</td>\n",
       "      <td>FLOTADOR PARA BRAZOS</td>\n",
       "      <td>FLOTADORES &amp; CHALECOS</td>\n",
       "      <td>FLOTADORES</td>\n",
       "      <td>PLAYA &amp; PISCINAS</td>\n",
       "      <td>JUGUETES</td>\n",
       "    </tr>\n",
       "    <tr>\n",
       "      <th>3</th>\n",
       "      <td>1162040050020010</td>\n",
       "      <td>MUNECA SONIDO</td>\n",
       "      <td>CON MECANISMO</td>\n",
       "      <td>MUÑECAS</td>\n",
       "      <td>NIÑA</td>\n",
       "      <td>JUGUETES</td>\n",
       "    </tr>\n",
       "    <tr>\n",
       "      <th>4</th>\n",
       "      <td>1167040050020010</td>\n",
       "      <td>CACHORRO CON SONIDO</td>\n",
       "      <td>CON MECANISMO</td>\n",
       "      <td>MUÑECAS</td>\n",
       "      <td>NIÑA</td>\n",
       "      <td>JUGUETES</td>\n",
       "    </tr>\n",
       "  </tbody>\n",
       "</table>\n",
       "</div>"
      ],
      "text/plain": [
       "             idProd                                nameProd  \\\n",
       "0  0161040040040010  MINI POP TRAVELINA - BUS + HELICOPTERO   \n",
       "1  0161061044021019                  FLOTADOR MODELO DELFIN   \n",
       "2  0163069045022019                    FLOTADOR PARA BRAZOS   \n",
       "3  1162040050020010                           MUNECA SONIDO   \n",
       "4  1167040050020010                     CACHORRO CON SONIDO   \n",
       "\n",
       "                  subCat          PCategory     SectionProduc   General  \n",
       "0                 VARIOS  CASAS & CASTILLOS              NIÑA  JUGUETES  \n",
       "1  FLOTADORES & CHALECOS         FLOTADORES  PLAYA & PISCINAS  JUGUETES  \n",
       "2  FLOTADORES & CHALECOS         FLOTADORES  PLAYA & PISCINAS  JUGUETES  \n",
       "3          CON MECANISMO            MUÑECAS              NIÑA  JUGUETES  \n",
       "4          CON MECANISMO            MUÑECAS              NIÑA  JUGUETES  "
      ]
     },
     "execution_count": 3,
     "metadata": {},
     "output_type": "execute_result"
    }
   ],
   "source": [
    "#Realizamos un solo dataset con los productos y sus categorias\n",
    "dfprod = pd.merge(dfprod,dflvl4, left_on='CategoryLevel4id', right_on='id', how='left')\n",
    "dfprod.rename(columns={'id_x': 'idProd','name_x':'nameProd','name_y':'subCat'}, inplace=True)\n",
    "dfprod = pd.merge(dfprod,dflvl3, left_on='CategoryLevel3id', right_on='id', how='left')\n",
    "dfprod.rename(columns={'name':'PCategory'}, inplace=True)\n",
    "dfprod = pd.merge(dfprod,dflvl2, left_on='CategoryLevel2id', right_on='id', how='left')\n",
    "dfprod.rename(columns={'name':'SectionProduc'}, inplace=True)\n",
    "dfprod = pd.merge(dfprod,dflvl1, left_on='CategoryLevel1Id', right_on='id', how='left')\n",
    "dfprod.rename(columns={'name':'General'}, inplace=True)\n",
    "dfprod.drop(columns=['CategoryLevel4id', 'CategoryLevel3id', 'CategoryLevel2id', 'CategoryLevel1Id', 'id_y', 'id_x', 'id'], inplace=True)\n",
    "dfprod.head()"
   ]
  },
  {
   "cell_type": "code",
   "execution_count": 4,
   "id": "ad2f6cc2",
   "metadata": {},
   "outputs": [],
   "source": [
    "dfprod.to_csv(\"../output/Productos.csv\", index=False)"
   ]
  }
 ],
 "metadata": {
  "kernelspec": {
   "display_name": "prueba_tecnica",
   "language": "python",
   "name": "python3"
  },
  "language_info": {
   "codemirror_mode": {
    "name": "ipython",
    "version": 3
   },
   "file_extension": ".py",
   "mimetype": "text/x-python",
   "name": "python",
   "nbconvert_exporter": "python",
   "pygments_lexer": "ipython3",
   "version": "3.10.18"
  }
 },
 "nbformat": 4,
 "nbformat_minor": 5
}
