{
 "cells": [
  {
   "cell_type": "markdown",
   "id": "c04e4991",
   "metadata": {},
   "source": [
    "# Exploramos el dataset de productos"
   ]
  },
  {
   "cell_type": "markdown",
   "id": "3ee41b54",
   "metadata": {},
   "source": [
    "### Importamos la libreria correspondiente"
   ]
  },
  {
   "cell_type": "code",
   "execution_count": 1,
   "id": "f5e3efa2",
   "metadata": {},
   "outputs": [],
   "source": [
    "import pandas as pd "
   ]
  },
  {
   "cell_type": "markdown",
   "id": "4f2cbeeb",
   "metadata": {},
   "source": [
    "### Importamos los datasets de productos con los que trabajaremos"
   ]
  },
  {
   "cell_type": "code",
   "execution_count": 2,
   "id": "bfba2f83",
   "metadata": {},
   "outputs": [],
   "source": [
    "dfprod=pd.read_csv(\"../input/db/products/products.csv\")\n",
    "dflvl4=pd.read_csv(\"../input/db/products/categoryLevel4.csv\")\n",
    "dflvl3=pd.read_csv(\"../input/db/products/categoryLevel3.csv\")\n",
    "dflvl2=pd.read_csv(\"../input/db/products/categoryLevel2.csv\")\n",
    "dflvl1=pd.read_csv(\"../input/db/products/categoryLevel1.csv\")\n"
   ]
  },
  {
   "cell_type": "markdown",
   "id": "80d5067d",
   "metadata": {},
   "source": [
    "#### Realizamos un merge de los datasets dejando unicamente el codigo y las categorias a las que pertenece ese producto\n",
    "##### Esto se lo hace para su posterior análisis en las ventas"
   ]
  },
  {
   "cell_type": "code",
   "execution_count": 3,
   "id": "c7267a70",
   "metadata": {},
   "outputs": [
    {
     "data": {
      "text/html": [
       "<div>\n",
       "<style scoped>\n",
       "    .dataframe tbody tr th:only-of-type {\n",
       "        vertical-align: middle;\n",
       "    }\n",
       "\n",
       "    .dataframe tbody tr th {\n",
       "        vertical-align: top;\n",
       "    }\n",
       "\n",
       "    .dataframe thead th {\n",
       "        text-align: right;\n",
       "    }\n",
       "</style>\n",
       "<table border=\"1\" class=\"dataframe\">\n",
       "  <thead>\n",
       "    <tr style=\"text-align: right;\">\n",
       "      <th></th>\n",
       "      <th>idProd</th>\n",
       "      <th>nameProd</th>\n",
       "      <th>subCat</th>\n",
       "      <th>PCategory</th>\n",
       "      <th>SectionProduc</th>\n",
       "      <th>General</th>\n",
       "    </tr>\n",
       "  </thead>\n",
       "  <tbody>\n",
       "    <tr>\n",
       "      <th>0</th>\n",
       "      <td>0161040040040010</td>\n",
       "      <td>MINI POP TRAVELINA - BUS + HELICOPTERO</td>\n",
       "      <td>VARIOS</td>\n",
       "      <td>CASAS &amp; CASTILLOS</td>\n",
       "      <td>NIÑA</td>\n",
       "      <td>JUGUETES</td>\n",
       "    </tr>\n",
       "    <tr>\n",
       "      <th>1</th>\n",
       "      <td>0161061044021019</td>\n",
       "      <td>FLOTADOR MODELO DELFIN</td>\n",
       "      <td>FLOTADORES &amp; CHALECOS</td>\n",
       "      <td>FLOTADORES</td>\n",
       "      <td>PLAYA &amp; PISCINAS</td>\n",
       "      <td>JUGUETES</td>\n",
       "    </tr>\n",
       "    <tr>\n",
       "      <th>2</th>\n",
       "      <td>0163069045022019</td>\n",
       "      <td>FLOTADOR PARA BRAZOS</td>\n",
       "      <td>FLOTADORES &amp; CHALECOS</td>\n",
       "      <td>FLOTADORES</td>\n",
       "      <td>PLAYA &amp; PISCINAS</td>\n",
       "      <td>JUGUETES</td>\n",
       "    </tr>\n",
       "    <tr>\n",
       "      <th>3</th>\n",
       "      <td>1162040050020010</td>\n",
       "      <td>MUNECA SONIDO</td>\n",
       "      <td>CON MECANISMO</td>\n",
       "      <td>MUÑECAS</td>\n",
       "      <td>NIÑA</td>\n",
       "      <td>JUGUETES</td>\n",
       "    </tr>\n",
       "    <tr>\n",
       "      <th>4</th>\n",
       "      <td>1167040050020010</td>\n",
       "      <td>CACHORRO CON SONIDO</td>\n",
       "      <td>CON MECANISMO</td>\n",
       "      <td>MUÑECAS</td>\n",
       "      <td>NIÑA</td>\n",
       "      <td>JUGUETES</td>\n",
       "    </tr>\n",
       "  </tbody>\n",
       "</table>\n",
       "</div>"
      ],
      "text/plain": [
       "             idProd                                nameProd  \\\n",
       "0  0161040040040010  MINI POP TRAVELINA - BUS + HELICOPTERO   \n",
       "1  0161061044021019                  FLOTADOR MODELO DELFIN   \n",
       "2  0163069045022019                    FLOTADOR PARA BRAZOS   \n",
       "3  1162040050020010                           MUNECA SONIDO   \n",
       "4  1167040050020010                     CACHORRO CON SONIDO   \n",
       "\n",
       "                  subCat          PCategory     SectionProduc   General  \n",
       "0                 VARIOS  CASAS & CASTILLOS              NIÑA  JUGUETES  \n",
       "1  FLOTADORES & CHALECOS         FLOTADORES  PLAYA & PISCINAS  JUGUETES  \n",
       "2  FLOTADORES & CHALECOS         FLOTADORES  PLAYA & PISCINAS  JUGUETES  \n",
       "3          CON MECANISMO            MUÑECAS              NIÑA  JUGUETES  \n",
       "4          CON MECANISMO            MUÑECAS              NIÑA  JUGUETES  "
      ]
     },
     "execution_count": 3,
     "metadata": {},
     "output_type": "execute_result"
    }
   ],
   "source": [
    "#Realizamos un solo dataset con los productos y sus categorias\n",
    "dfprod = pd.merge(dfprod,dflvl4, left_on='CategoryLevel4id', right_on='id', how='left')\n",
    "dfprod.rename(columns={'id_x': 'idProd','name_x':'nameProd','name_y':'subCat'}, inplace=True)\n",
    "dfprod = pd.merge(dfprod,dflvl3, left_on='CategoryLevel3id', right_on='id', how='left')\n",
    "dfprod.rename(columns={'name':'PCategory'}, inplace=True)\n",
    "dfprod = pd.merge(dfprod,dflvl2, left_on='CategoryLevel2id', right_on='id', how='left')\n",
    "dfprod.rename(columns={'name':'SectionProduc'}, inplace=True)\n",
    "dfprod = pd.merge(dfprod,dflvl1, left_on='CategoryLevel1Id', right_on='id', how='left')\n",
    "dfprod.rename(columns={'name':'General'}, inplace=True)\n",
    "dfprod.drop(columns=['CategoryLevel4id', 'CategoryLevel3id', 'CategoryLevel2id', 'CategoryLevel1Id', 'id_y', 'id_x', 'id'], inplace=True)\n",
    "dfprod.head()"
   ]
  },
  {
   "cell_type": "markdown",
   "id": "30bc1876",
   "metadata": {},
   "source": [
    "### Verificamos si hay valores nulos o faltantes, ademas de si hay valores duplicados"
   ]
  },
  {
   "cell_type": "code",
   "execution_count": 4,
   "id": "726deb6f",
   "metadata": {},
   "outputs": [
    {
     "data": {
      "text/plain": [
       "idProd           0\n",
       "nameProd         0\n",
       "subCat           4\n",
       "PCategory        4\n",
       "SectionProduc    4\n",
       "General          4\n",
       "dtype: int64"
      ]
     },
     "execution_count": 4,
     "metadata": {},
     "output_type": "execute_result"
    }
   ],
   "source": [
    "dfprod.isna().sum() # Verifica si hay filas con valores NaN"
   ]
  },
  {
   "cell_type": "code",
   "execution_count": 5,
   "id": "f860f477",
   "metadata": {},
   "outputs": [
    {
     "data": {
      "text/plain": [
       "np.int64(0)"
      ]
     },
     "execution_count": 5,
     "metadata": {},
     "output_type": "execute_result"
    }
   ],
   "source": [
    "dfprod.duplicated().sum() # Verifica si hay filas duplicadas"
   ]
  },
  {
   "cell_type": "markdown",
   "id": "8b007542",
   "metadata": {},
   "source": [
    " ### Verificamos los valores NaN"
   ]
  },
  {
   "cell_type": "code",
   "execution_count": 6,
   "id": "a7b369df",
   "metadata": {},
   "outputs": [
    {
     "data": {
      "text/html": [
       "<div>\n",
       "<style scoped>\n",
       "    .dataframe tbody tr th:only-of-type {\n",
       "        vertical-align: middle;\n",
       "    }\n",
       "\n",
       "    .dataframe tbody tr th {\n",
       "        vertical-align: top;\n",
       "    }\n",
       "\n",
       "    .dataframe thead th {\n",
       "        text-align: right;\n",
       "    }\n",
       "</style>\n",
       "<table border=\"1\" class=\"dataframe\">\n",
       "  <thead>\n",
       "    <tr style=\"text-align: right;\">\n",
       "      <th></th>\n",
       "      <th>idProd</th>\n",
       "      <th>nameProd</th>\n",
       "      <th>subCat</th>\n",
       "      <th>PCategory</th>\n",
       "      <th>SectionProduc</th>\n",
       "      <th>General</th>\n",
       "    </tr>\n",
       "  </thead>\n",
       "  <tbody>\n",
       "    <tr>\n",
       "      <th>55610</th>\n",
       "      <td>O151053129038011</td>\n",
       "      <td>INDIVIDUAL OVALADO 30X45 CM ROSA</td>\n",
       "      <td>NaN</td>\n",
       "      <td>NaN</td>\n",
       "      <td>NaN</td>\n",
       "      <td>NaN</td>\n",
       "    </tr>\n",
       "    <tr>\n",
       "      <th>58943</th>\n",
       "      <td>O159057157012012</td>\n",
       "      <td>VAJILLA 16PZS FLORES VERDE</td>\n",
       "      <td>NaN</td>\n",
       "      <td>NaN</td>\n",
       "      <td>NaN</td>\n",
       "      <td>NaN</td>\n",
       "    </tr>\n",
       "    <tr>\n",
       "      <th>58944</th>\n",
       "      <td>O150058157012012</td>\n",
       "      <td>VAJILLA 16PZS PALMA AZUL</td>\n",
       "      <td>NaN</td>\n",
       "      <td>NaN</td>\n",
       "      <td>NaN</td>\n",
       "      <td>NaN</td>\n",
       "    </tr>\n",
       "    <tr>\n",
       "      <th>58945</th>\n",
       "      <td>O151058157012012</td>\n",
       "      <td>VAJILLA 16PZS ACUARELA ROSA</td>\n",
       "      <td>NaN</td>\n",
       "      <td>NaN</td>\n",
       "      <td>NaN</td>\n",
       "      <td>NaN</td>\n",
       "    </tr>\n",
       "  </tbody>\n",
       "</table>\n",
       "</div>"
      ],
      "text/plain": [
       "                 idProd                          nameProd subCat PCategory  \\\n",
       "55610  O151053129038011  INDIVIDUAL OVALADO 30X45 CM ROSA    NaN       NaN   \n",
       "58943  O159057157012012        VAJILLA 16PZS FLORES VERDE    NaN       NaN   \n",
       "58944  O150058157012012          VAJILLA 16PZS PALMA AZUL    NaN       NaN   \n",
       "58945  O151058157012012       VAJILLA 16PZS ACUARELA ROSA    NaN       NaN   \n",
       "\n",
       "      SectionProduc General  \n",
       "55610           NaN     NaN  \n",
       "58943           NaN     NaN  \n",
       "58944           NaN     NaN  \n",
       "58945           NaN     NaN  "
      ]
     },
     "execution_count": 6,
     "metadata": {},
     "output_type": "execute_result"
    }
   ],
   "source": [
    "dfprod[dfprod.isna().any(axis=1)]  # Verifica si hay filas con valores NaN\n"
   ]
  },
  {
   "cell_type": "markdown",
   "id": "0d20d332",
   "metadata": {},
   "source": [
    "### Eliminamos las filas que contienen los valores NaN ya que no forman parte de las categorias a analizar"
   ]
  },
  {
   "cell_type": "code",
   "execution_count": 7,
   "id": "8dee29a4",
   "metadata": {},
   "outputs": [],
   "source": [
    "dfprod = dfprod.dropna(subset=['subCat', 'PCategory', 'SectionProduc', 'General'])  # Elimina filas con NaN en columnas clave"
   ]
  },
  {
   "cell_type": "markdown",
   "id": "6f3899f9",
   "metadata": {},
   "source": [
    "### Exportamos el nuevo dataset a la carpeta output"
   ]
  },
  {
   "cell_type": "code",
   "execution_count": 8,
   "id": "ad2f6cc2",
   "metadata": {},
   "outputs": [],
   "source": [
    "dfprod.to_csv(\"../output/Productos.csv\", index=False)"
   ]
  }
 ],
 "metadata": {
  "kernelspec": {
   "display_name": "prueba_tecnica",
   "language": "python",
   "name": "python3"
  },
  "language_info": {
   "codemirror_mode": {
    "name": "ipython",
    "version": 3
   },
   "file_extension": ".py",
   "mimetype": "text/x-python",
   "name": "python",
   "nbconvert_exporter": "python",
   "pygments_lexer": "ipython3",
   "version": "3.10.18"
  }
 },
 "nbformat": 4,
 "nbformat_minor": 5
}
